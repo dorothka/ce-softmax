{
  "cells": [
    {
      "cell_type": "markdown",
      "metadata": {},
      "source": "# Softmax Layer Exercise (with Batch Support & Numerical Stability)"
    },
    {
      "cell_type": "markdown",
      "metadata": {},
      "source": "Implement a numerically stable softmax that works for 1D vectors and 2D batches."
    },
    {
      "cell_type": "markdown",
      "metadata": {},
      "source": "## Your Task\nFill in the function `softmax(x)`."
    },
    {
      "cell_type": "code",
      "execution_count": null,
      "metadata": {},
      "outputs": [],
      "source": "import numpy as np\n\ndef softmax(x: np.ndarray) -> np.ndarray:\n    # your code here\n    raise NotImplementedError(\"Implement the softmax function\")\n"
    },
    {
      "cell_type": "markdown",
      "metadata": {},
      "source": "## Unit Tests"
    },
    {
      "cell_type": "code",
      "execution_count": null,
      "metadata": {},
      "outputs": [],
      "source": "vec = np.array([2.0, 1.0, 0.0])\nout = softmax(vec)\nassert out.shape == (3,)\nassert abs(out.sum()-1) < 1e-9\nprint(\"Vector test passed\")\n\nbatch = np.array([[1,2,3],[0,0,0]])\noutb = softmax(batch)\nassert outb.shape == batch.shape\nassert np.allclose(outb.sum(axis=1), np.ones(2))\nprint(\"Batch test passed\")\n\nprint(\"All tests passed \u2705\")\n"
    },
    {
      "cell_type": "markdown",
      "metadata": {},
      "source": "## Solution (Instructor)"
    },
    {
      "cell_type": "code",
      "execution_count": null,
      "metadata": {},
      "outputs": [],
      "source": "def softmax(x: np.ndarray) -> np.ndarray:\n    import numpy as np\n    if x.ndim == 1:\n        shifted = x - np.max(x)\n        exps = np.exp(shifted)\n        return exps/np.sum(exps)\n    elif x.ndim == 2:\n        shifted = x - np.max(x, axis=1, keepdims=True)\n        exps = np.exp(shifted)\n        return exps/np.sum(exps, axis=1, keepdims=True)\n    else:\n        raise ValueError(\"Input must be 1D or 2D\")\n"
    }
  ],
  "metadata": {
    "kernelspec": {
      "display_name": "Python 3",
      "language": "python",
      "name": "python3"
    },
    "language_info": {
      "name": "python",
      "version": "3.11.8"
    }
  },
  "nbformat": 4,
  "nbformat_minor": 5
}